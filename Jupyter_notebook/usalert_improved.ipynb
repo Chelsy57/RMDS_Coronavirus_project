{
 "cells": [
  {
   "cell_type": "markdown",
   "metadata": {},
   "source": [
    "# US alert Function\n",
    "Chelsy Xia\n",
    " April 1st 2020\n",
    "\n"
   ]
  },
  {
   "cell_type": "markdown",
   "metadata": {},
   "source": [
    "This functions selects the US cases of COVID-19 on a state scale and define state's alert level.\\\n",
    "Inputs: US cases from MongoDB, State names\\\n",
    "Outputs: slope,three day average acceleration rate, alert level.\\\n",
    "Delta-infect is calculated by the difference between most recent date and the day before.\n",
    "Three day average acceleration rate is calculated from the three day average of acceleration.\\\n",
    "Alert level is denfined according to :\\\n",
    "Red: cases >= 100, acceleration > 0, slope > 0\\\n",
    "Yellow: cases >=100, acceleration <= 0 , slope >= 0\\\n",
    "Green: cases <100 or slope < 0 \n"
   ]
  },
  {
   "cell_type": "code",
   "execution_count": 5,
   "metadata": {},
   "outputs": [
    {
     "name": "stdout",
     "output_type": "stream",
     "text": [
      "Collecting pymongo\n",
      "  Downloading pymongo-3.10.1-cp37-cp37m-win_amd64.whl (354 kB)\n",
      "Installing collected packages: pymongo\n",
      "Successfully installed pymongo-3.10.1\n"
     ]
    }
   ],
   "source": [
    "! pip install pymongo"
   ]
  },
  {
   "cell_type": "code",
   "execution_count": 48,
   "metadata": {},
   "outputs": [],
   "source": [
    "import pymongo\n",
    "from pymongo import MongoClient\n",
    "import numpy as np\n",
    "\n",
    "\n",
    "class Mongo_connector(object):\n",
    "    def __init__(self, server_ip, user, pw, table):\n",
    "        self.mongo_client = MongoClient(server_ip + ':27017',\n",
    "                            username=user,\n",
    "                            password=pw,\n",
    "                            authSource='COVID19-DB',\n",
    "                            authMechanism='SCRAM-SHA-256')\n",
    "        self.data = self.mongo_client[\"COVID19-DB\"][table]\n",
    "        \n",
    "    def get_states_data(self,countryname, statename, lastn):\n",
    "        docs = self.data.find({\"$and\": [{\"Country/Region\": {\"$eq\": countryname}},\n",
    "                                {\"Province/State\": {\"$eq\": statename}}]}).sort(\"Date\", pymongo.DESCENDING).limit(lastn)\n",
    "        number = []\n",
    "        dateList = []\n",
    "        for doc in docs:\n",
    "            update_date = doc.get(\"Date\")\n",
    "            date_obj = update_date.date()\n",
    "            date_str = date_obj.isoformat()\n",
    "            dateList.append(date_str)\n",
    "            number.append([doc.get(\"Confirmed\"), doc.get(\"Death\")])\n",
    "        dateList.reverse()\n",
    "        number.reverse()\n",
    "        number = np.array(number, dtype = 'float')\n",
    "        return dateList, number\n",
    "        \n",
    "        \n",
    "        \n",
    "\n",
    "\n",
    "if __name__ == \"__main__\":\n",
    "    con = Mongo_connector('3.101.18.8', 'analyst', 'grmds', 'CDC-TimeSeries')\n",
    "    date, number = con.get_states_data(\"US\",\"Iowa\",5)\n",
    "    "
   ]
  },
  {
   "cell_type": "code",
   "execution_count": 49,
   "metadata": {},
   "outputs": [
    {
     "data": {
      "text/plain": [
       "array([[29.,  0.],\n",
       "       [44.,  0.],\n",
       "       [45.,  0.],\n",
       "       [68.,  0.],\n",
       "       [90.,  0.]])"
      ]
     },
     "execution_count": 49,
     "metadata": {},
     "output_type": "execute_result"
    }
   ],
   "source": [
    "number"
   ]
  },
  {
   "cell_type": "code",
   "execution_count": 50,
   "metadata": {},
   "outputs": [
    {
     "data": {
      "text/plain": [
       "['2020-03-18', '2020-03-19', '2020-03-20', '2020-03-21', '2020-03-22']"
      ]
     },
     "execution_count": 50,
     "metadata": {},
     "output_type": "execute_result"
    }
   ],
   "source": [
    "date"
   ]
  },
  {
   "cell_type": "code",
   "execution_count": 51,
   "metadata": {},
   "outputs": [],
   "source": [
    "def task(date, number):\n",
    "    most_recent_infect = number[-1][0]\n",
    "    most_recent_d = number[-1][1]\n",
    "    delta_infect = number[-1][0] - number[-2][0]\n",
    "    three_day_acc = ((number[-1][0] - 2*number[-2][0] + number[-3][0])/2 + \n",
    "                     (number[-2][0] - 2*number[-3][0] + number[-4][0])/2 + \n",
    "                     (number[-3][0] - 2*number[-4][0] + number[-5][0])/2)/3\n",
    "    if most_recent_infect >100 and three_day_acc <= 0 and delta_infect >=0:\n",
    "         alertlevel = \"Yellow\"\n",
    "    if most_recent_infect >100 and three_day_acc > 0 and delta_infect >0:\n",
    "        alertlevel = \"Red\"     \n",
    "    else:\n",
    "        alertlevel=\"Green\"\n",
    "    return most_recent_infect, most_recent_d, delta_infect, three_day_acc,alertlevel"
   ]
  },
  {
   "cell_type": "code",
   "execution_count": 52,
   "metadata": {},
   "outputs": [
    {
     "data": {
      "text/plain": [
       "(90.0, 0.0, 22.0, 1.1666666666666667, 'Green')"
      ]
     },
     "execution_count": 52,
     "metadata": {},
     "output_type": "execute_result"
    }
   ],
   "source": [
    "task(date,number)"
   ]
  },
  {
   "cell_type": "code",
   "execution_count": 6,
   "metadata": {},
   "outputs": [],
   "source": []
  },
  {
   "cell_type": "code",
   "execution_count": null,
   "metadata": {},
   "outputs": [],
   "source": []
  },
  {
   "cell_type": "code",
   "execution_count": null,
   "metadata": {},
   "outputs": [],
   "source": []
  },
  {
   "cell_type": "code",
   "execution_count": null,
   "metadata": {},
   "outputs": [],
   "source": []
  }
 ],
 "metadata": {
  "kernelspec": {
   "display_name": "Python 3",
   "language": "python",
   "name": "python3"
  },
  "language_info": {
   "codemirror_mode": {
    "name": "ipython",
    "version": 3
   },
   "file_extension": ".py",
   "mimetype": "text/x-python",
   "name": "python",
   "nbconvert_exporter": "python",
   "pygments_lexer": "ipython3",
   "version": "3.7.6"
  }
 },
 "nbformat": 4,
 "nbformat_minor": 4
}
